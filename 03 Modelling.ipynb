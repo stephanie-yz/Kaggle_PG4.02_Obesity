{
 "cells": [
  {
   "cell_type": "markdown",
   "metadata": {},
   "source": [
    "# Multi-Class Prediction of Obesity Risk\n",
    "Run after following notebooks are run:\n",
    "1. **01 Data Cleaning**\n",
    "2. **02 EDA**\n",
    "\n",
    "## Development Notes\n"
   ]
  },
  {
   "cell_type": "code",
   "execution_count": 2,
   "metadata": {},
   "outputs": [],
   "source": [
    "## set up libraries\n",
    "import pandas as pd\n",
    "import numpy as np\n",
    "from sklearn.preprocessing import OneHotEncoder\n",
    "from sklearn.compose import ColumnTransformer, make_column_selector"
   ]
  },
  {
   "cell_type": "markdown",
   "metadata": {},
   "source": [
    "## Load Data"
   ]
  },
  {
   "cell_type": "code",
   "execution_count": 3,
   "metadata": {},
   "outputs": [],
   "source": [
    "train = pd.read_pickle('train_clean.pkl')\n",
    "test = pd.read_pickle('test_clean.pkl')\n",
    "\n",
    "## separate in to features and response variable\n",
    "x_train = train.drop('NObeyesdad', axis=1)\n",
    "y_train = train['NObeyesdad']\n",
    "\n",
    "x_test = test"
   ]
  },
  {
   "cell_type": "markdown",
   "metadata": {},
   "source": [
    "## One Hot Encoding"
   ]
  },
  {
   "cell_type": "code",
   "execution_count": 17,
   "metadata": {},
   "outputs": [
    {
     "name": "stdout",
     "output_type": "stream",
     "text": [
      "train:  ['Sometimes', 'no', 'Frequently']\n",
      "Categories (4, object): ['no' < 'Sometimes' < 'Frequently' < 'Always']\n",
      "test:  ['Sometimes', 'no', 'Frequently', 'Always']\n",
      "Categories (4, object): ['no' < 'Sometimes' < 'Frequently' < 'Always']\n"
     ]
    }
   ],
   "source": [
    "## take note of 'CALC' - train has 3 levels, but test has 4\n",
    "print('train: ', x_train.CALC.unique())\n",
    "print('test: ', x_test.CALC.unique())\n",
    "\n",
    "CALC_levels = x_test.CALC.cat.categories.tolist()"
   ]
  },
  {
   "cell_type": "code",
   "execution_count": 24,
   "metadata": {},
   "outputs": [
    {
     "data": {
      "text/plain": [
       "['Gender_Male',\n",
       " 'family_history_with_overweight_yes',\n",
       " 'FAVC_yes',\n",
       " 'CAEC_Frequently',\n",
       " 'CAEC_Sometimes',\n",
       " 'CAEC_no',\n",
       " 'SMOKE_yes',\n",
       " 'SCC_yes',\n",
       " 'MTRANS_Bike',\n",
       " 'MTRANS_Motorbike',\n",
       " 'MTRANS_Public_Transportation',\n",
       " 'MTRANS_Walking',\n",
       " 'CALC_Sometimes',\n",
       " 'CALC_Frequently',\n",
       " 'CALC_Always',\n",
       " 'Age',\n",
       " 'Height',\n",
       " 'Weight',\n",
       " 'FCVC',\n",
       " 'NCP',\n",
       " 'CH2O',\n",
       " 'FAF',\n",
       " 'TUE']"
      ]
     },
     "execution_count": 24,
     "metadata": {},
     "output_type": "execute_result"
    }
   ],
   "source": [
    "## list categorical columns, excluding CALC, that can be assigned automatically\n",
    "cols_onehot_auto = x_train.columns[x_train.dtypes=='category'].drop('CALC')\n",
    "\n",
    "## use ColumnTransformer so only categorical columns are affected\n",
    "ct = ColumnTransformer([('One_Hot_Cat', OneHotEncoder(drop='first'), cols_onehot_auto),\n",
    "                        ('One_Hot_Cat_Manual', OneHotEncoder(drop='first', categories=[CALC_levels]), ['CALC'])],\n",
    "                       remainder='passthrough', verbose_feature_names_out=False)\n",
    "x_train_onehot = pd.DataFrame(ct.fit_transform(x_train), columns=ct.get_feature_names_out())\n",
    "x_test_onehot = pd.DataFrame(ct.transform(x_test), columns=ct.get_feature_names_out())\n",
    "\n",
    "x_train_onehot.columns.tolist()\n",
    "\n"
   ]
  }
 ],
 "metadata": {
  "kernelspec": {
   "display_name": "Python 3",
   "language": "python",
   "name": "python3"
  },
  "language_info": {
   "codemirror_mode": {
    "name": "ipython",
    "version": 3
   },
   "file_extension": ".py",
   "mimetype": "text/x-python",
   "name": "python",
   "nbconvert_exporter": "python",
   "pygments_lexer": "ipython3",
   "version": "3.10.4"
  }
 },
 "nbformat": 4,
 "nbformat_minor": 2
}
