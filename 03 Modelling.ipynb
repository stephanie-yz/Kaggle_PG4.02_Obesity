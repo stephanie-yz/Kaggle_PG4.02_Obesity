{
 "cells": [
  {
   "cell_type": "markdown",
   "metadata": {},
   "source": [
    "# Multi-Class Prediction of Obesity Risk\n",
    "Run after following notebooks are run:\n",
    "1. **01 Data Cleaning**\n",
    "2. **02 EDA**\n",
    "\n",
    "## Development Notes\n"
   ]
  },
  {
   "cell_type": "code",
   "execution_count": 92,
   "metadata": {},
   "outputs": [],
   "source": [
    "## set up libraries\n",
    "import pandas as pd\n",
    "import numpy as np\n",
    "import matplotlib.pyplot as plt\n",
    "from sklearn.preprocessing import OneHotEncoder, LabelEncoder, OrdinalEncoder\n",
    "from sklearn.compose import ColumnTransformer\n",
    "from sklearn.model_selection import KFold, cross_val_score\n",
    "from sklearn.model_selection import GridSearchCV\n",
    "from sklearn.ensemble import RandomForestClassifier\n",
    "from sklearn.ensemble import StackingClassifier\n",
    "from sklearn.linear_model import LogisticRegression\n",
    "from sklearn.neighbors import KNeighborsClassifier\n",
    "import xgboost as xgb"
   ]
  },
  {
   "cell_type": "markdown",
   "metadata": {},
   "source": [
    "## Load Data"
   ]
  },
  {
   "cell_type": "code",
   "execution_count": 2,
   "metadata": {},
   "outputs": [],
   "source": [
    "train = pd.read_pickle('train_clean.pkl')\n",
    "test = pd.read_pickle('test_clean.pkl')\n",
    "\n",
    "## separate in to features and response variable\n",
    "x_train = train.drop('NObeyesdad', axis=1)\n",
    "y_train = train['NObeyesdad']\n",
    "\n",
    "x_test = test"
   ]
  },
  {
   "cell_type": "markdown",
   "metadata": {},
   "source": [
    "## One Hot Encoding / Label Encoding"
   ]
  },
  {
   "cell_type": "code",
   "execution_count": 3,
   "metadata": {},
   "outputs": [
    {
     "name": "stdout",
     "output_type": "stream",
     "text": [
      "train:  ['Sometimes', 'no', 'Frequently']\n",
      "Categories (4, object): ['no' < 'Sometimes' < 'Frequently' < 'Always']\n",
      "test:  ['Sometimes', 'no', 'Frequently', 'Always']\n",
      "Categories (4, object): ['no' < 'Sometimes' < 'Frequently' < 'Always']\n"
     ]
    }
   ],
   "source": [
    "## take note of 'CALC' - train has 3 levels, but test has 4\n",
    "print('train: ', x_train.CALC.unique())\n",
    "print('test: ', x_test.CALC.unique())\n",
    "\n",
    "CALC_levels = x_test.CALC.cat.categories.tolist()"
   ]
  },
  {
   "cell_type": "code",
   "execution_count": 87,
   "metadata": {},
   "outputs": [
    {
     "data": {
      "text/plain": [
       "['Gender_Male',\n",
       " 'family_history_with_overweight_yes',\n",
       " 'FAVC_yes',\n",
       " 'CAEC_Frequently',\n",
       " 'CAEC_Sometimes',\n",
       " 'CAEC_no',\n",
       " 'SMOKE_yes',\n",
       " 'SCC_yes',\n",
       " 'MTRANS_Bike',\n",
       " 'MTRANS_Motorbike',\n",
       " 'MTRANS_Public_Transportation',\n",
       " 'MTRANS_Walking',\n",
       " 'CALC_Sometimes',\n",
       " 'CALC_Frequently',\n",
       " 'CALC_Always',\n",
       " 'Age',\n",
       " 'Height',\n",
       " 'Weight',\n",
       " 'FCVC',\n",
       " 'NCP',\n",
       " 'CH2O',\n",
       " 'FAF',\n",
       " 'TUE',\n",
       " 'BMI']"
      ]
     },
     "execution_count": 87,
     "metadata": {},
     "output_type": "execute_result"
    }
   ],
   "source": [
    "## list categorical columns, excluding CALC, that can be assigned automatically\n",
    "cols_onehot_auto = x_train.columns[x_train.dtypes=='category'].drop('CALC')\n",
    "\n",
    "## use ColumnTransformer so only categorical columns are affected\n",
    "ct = ColumnTransformer([('One_Hot_Cat', OneHotEncoder(drop='first'), cols_onehot_auto),\n",
    "                        ('One_Hot_Cat_Manual', OneHotEncoder(drop='first', categories=[CALC_levels]), ['CALC'])],\n",
    "                       remainder='passthrough', verbose_feature_names_out=False)\n",
    "x_train_onehot = pd.DataFrame(ct.fit_transform(x_train), columns=ct.get_feature_names_out())\n",
    "x_test_onehot = pd.DataFrame(ct.transform(x_test), columns=ct.get_feature_names_out())\n",
    "\n",
    "x_train_onehot.columns.tolist()"
   ]
  },
  {
   "cell_type": "code",
   "execution_count": 86,
   "metadata": {},
   "outputs": [],
   "source": [
    "## ALTERNATE TRANSFORMATION - MAINLY USED FOR KNN\n",
    "## list categorical columns, excluding ordinal categories, that can be assigned automatically\n",
    "cols_onehot_auto = x_train.columns[x_train.dtypes=='category'].drop(['CALC', 'CAEC'])\n",
    "\n",
    "## use ColumnTransformer so only categorical columns are affected\n",
    "ct_ord = ColumnTransformer([('One_Hot_Cat', OneHotEncoder(drop='first'), cols_onehot_auto),\n",
    "                            ('Ord_Cat_CAEC', OrdinalEncoder(), ['CAEC']),\n",
    "                            ('Ord_Cat_CALC', OrdinalEncoder(categories=[CALC_levels]), ['CALC'])],\n",
    "                          remainder='passthrough', verbose_feature_names_out=False)"
   ]
  },
  {
   "cell_type": "code",
   "execution_count": 5,
   "metadata": {},
   "outputs": [
    {
     "data": {
      "text/plain": [
       "array(['Insufficient_Weight', 'Normal_Weight', 'Obesity_Type_I',\n",
       "       'Obesity_Type_II', 'Obesity_Type_III', 'Overweight_Level_I',\n",
       "       'Overweight_Level_II'], dtype=object)"
      ]
     },
     "execution_count": 5,
     "metadata": {},
     "output_type": "execute_result"
    }
   ],
   "source": [
    "## label encode response variable\n",
    "le = LabelEncoder()\n",
    "y_train_le = le.fit_transform(y_train)\n",
    "le.classes_"
   ]
  },
  {
   "cell_type": "markdown",
   "metadata": {},
   "source": [
    "## Modelling"
   ]
  },
  {
   "cell_type": "markdown",
   "metadata": {},
   "source": [
    "### XGBoost"
   ]
  },
  {
   "cell_type": "code",
   "execution_count": 88,
   "metadata": {},
   "outputs": [
    {
     "data": {
      "text/html": [
       "<div>\n",
       "<style scoped>\n",
       "    .dataframe tbody tr th:only-of-type {\n",
       "        vertical-align: middle;\n",
       "    }\n",
       "\n",
       "    .dataframe tbody tr th {\n",
       "        vertical-align: top;\n",
       "    }\n",
       "\n",
       "    .dataframe thead th {\n",
       "        text-align: right;\n",
       "    }\n",
       "</style>\n",
       "<table border=\"1\" class=\"dataframe\">\n",
       "  <thead>\n",
       "    <tr style=\"text-align: right;\">\n",
       "      <th></th>\n",
       "      <th>train-mlogloss-mean</th>\n",
       "      <th>train-mlogloss-std</th>\n",
       "      <th>test-mlogloss-mean</th>\n",
       "      <th>test-mlogloss-std</th>\n",
       "    </tr>\n",
       "  </thead>\n",
       "  <tbody>\n",
       "    <tr>\n",
       "      <th>99</th>\n",
       "      <td>0.095727</td>\n",
       "      <td>0.00226</td>\n",
       "      <td>0.285965</td>\n",
       "      <td>0.008374</td>\n",
       "    </tr>\n",
       "  </tbody>\n",
       "</table>\n",
       "</div>"
      ],
      "text/plain": [
       "    train-mlogloss-mean  train-mlogloss-std  test-mlogloss-mean  \\\n",
       "99             0.095727             0.00226            0.285965   \n",
       "\n",
       "    test-mlogloss-std  \n",
       "99           0.008374  "
      ]
     },
     "execution_count": 88,
     "metadata": {},
     "output_type": "execute_result"
    }
   ],
   "source": [
    "## convert data to DMatrix\n",
    "x_train_onehot_D = xgb.DMatrix(data=x_train_onehot, label=y_train_le)\n",
    "\n",
    "## cross-validation\n",
    "params = {'objective':'multi:softprob', 'num_class':7, 'max_depth':8, 'eta':0.1}\n",
    "xgb_tuning = xgb.cv(dtrain=x_train_onehot_D, params=params, num_boost_round=100, early_stopping_rounds=20, nfold=5, as_pandas=True, seed=123)\n",
    "\n",
    "## mean result\n",
    "xgb_tuning.tail(1)"
   ]
  },
  {
   "cell_type": "code",
   "execution_count": 7,
   "metadata": {},
   "outputs": [
    {
     "name": "stdout",
     "output_type": "stream",
     "text": [
      "best_params = {'colsample_bytree': 0.5, 'eta': 0.1, 'max_depth': 8, 'n_estimators': 150, 'n_jobs': -1, 'num_class': 7, 'objective': 'multi:softprob', 'reg_alpha': 1}\n",
      "best_score = 0.9099143162244354\n"
     ]
    },
    {
     "data": {
      "text/plain": [
       "array([0.90861365, 0.9096734 , 0.9092883 , 0.90991432, 0.90856582,\n",
       "       0.90957727, 0.90533784, 0.90702403, 0.90620491, 0.90721682,\n",
       "       0.90577164, 0.90659064])"
      ]
     },
     "execution_count": 7,
     "metadata": {},
     "output_type": "execute_result"
    }
   ],
   "source": [
    "## hyperparameter tuning: n_estimators\n",
    "param_grid = {'n_estimators' : np.arange(100,250,50), 'max_depth':[8], 'eta':[0.1], 'colsample_bytree': [0.5, 1], 'reg_alpha':[0.5, 1],        # parameters to tune\n",
    "              'objective':['multi:softprob'], 'num_class':[7], 'n_jobs' : [-1]}                                                                 # fixed parameters\n",
    "kf = KFold(n_splits=10, shuffle=True, random_state=8)\n",
    "\n",
    "xgb_tuning = GridSearchCV(xgb.XGBClassifier(random_state=8), param_grid, scoring='accuracy', cv=kf)\n",
    "xgb_tuning.fit(x_train_onehot.values, y_train_le)\n",
    "\n",
    "## find best param with highest accuracy\n",
    "xgb_tuning_accr = xgb_tuning.cv_results_['mean_test_score']\n",
    "print('best_params =', xgb_tuning.best_params_)\n",
    "print('best_score =', xgb_tuning.best_score_)\n",
    "xgb_tuning_accr"
   ]
  },
  {
   "cell_type": "code",
   "execution_count": 8,
   "metadata": {},
   "outputs": [],
   "source": [
    "## instantiate xgb algorithm, using best tuned param\n",
    "xgbclass = xgb.XGBClassifier(n_estimators= 150, max_depth=8, eta=0.1, colsample_bytree=0.5, reg_alpha=1, objective='multi:softprob', num_class=7, random_state=8, n_jobs=-1)\n",
    "\n",
    "## fit model to training data\n",
    "xgbclass.fit(x_train_onehot.values, y_train_le); None"
   ]
  },
  {
   "cell_type": "markdown",
   "metadata": {},
   "source": [
    "### Random Forest"
   ]
  },
  {
   "cell_type": "code",
   "execution_count": 89,
   "metadata": {},
   "outputs": [
    {
     "name": "stdout",
     "output_type": "stream",
     "text": [
      "best_params = {'min_samples_split': 5, 'n_estimators': 340, 'n_jobs': -1}\n",
      "best_score = 0.9039406179631821\n"
     ]
    },
    {
     "data": {
      "text/plain": [
       "array([0.90355522, 0.9036035 , 0.90394062, 0.90369972, 0.90235088,\n",
       "       0.90249542, 0.90211006, 0.90225461])"
      ]
     },
     "execution_count": 89,
     "metadata": {},
     "output_type": "execute_result"
    }
   ],
   "source": [
    "## hyperparameter tuning: n_estimators\n",
    "param_grid = {'n_estimators' : np.arange(300,370,20), 'min_samples_split' : [5,10], 'n_jobs' : [-1]}\n",
    "kf = KFold(n_splits=10, shuffle=True, random_state=8)\n",
    "\n",
    "rf_tuning = GridSearchCV(RandomForestClassifier(random_state=8), param_grid, scoring='accuracy', cv=kf)\n",
    "rf_tuning.fit(x_train_onehot.values, y_train_le)\n",
    "\n",
    "## find best param with highest accuracy\n",
    "rf_tuning_accr = rf_tuning.cv_results_['mean_test_score']\n",
    "print('best_params =', rf_tuning.best_params_)\n",
    "print('best_score =', rf_tuning.best_score_)\n",
    "rf_tuning_accr"
   ]
  },
  {
   "cell_type": "code",
   "execution_count": 90,
   "metadata": {},
   "outputs": [],
   "source": [
    "## instantiate rf algorithm, using best tuned param\n",
    "rf = RandomForestClassifier(n_estimators=340, random_state=8, min_samples_split=5, n_jobs=-1)\n",
    "\n",
    "## fit model to training data\n",
    "rf.fit(x_train_onehot.values, y_train_le); None"
   ]
  },
  {
   "cell_type": "code",
   "execution_count": 91,
   "metadata": {},
   "outputs": [
    {
     "data": {
      "text/html": [
       "<div>\n",
       "<style scoped>\n",
       "    .dataframe tbody tr th:only-of-type {\n",
       "        vertical-align: middle;\n",
       "    }\n",
       "\n",
       "    .dataframe tbody tr th {\n",
       "        vertical-align: top;\n",
       "    }\n",
       "\n",
       "    .dataframe thead th {\n",
       "        text-align: right;\n",
       "    }\n",
       "</style>\n",
       "<table border=\"1\" class=\"dataframe\">\n",
       "  <thead>\n",
       "    <tr style=\"text-align: right;\">\n",
       "      <th></th>\n",
       "      <th>Features</th>\n",
       "      <th>Gini Importance</th>\n",
       "    </tr>\n",
       "  </thead>\n",
       "  <tbody>\n",
       "    <tr>\n",
       "      <th>23</th>\n",
       "      <td>BMI</td>\n",
       "      <td>29.458431</td>\n",
       "    </tr>\n",
       "    <tr>\n",
       "      <th>17</th>\n",
       "      <td>Weight</td>\n",
       "      <td>24.829193</td>\n",
       "    </tr>\n",
       "    <tr>\n",
       "      <th>15</th>\n",
       "      <td>Age</td>\n",
       "      <td>7.462973</td>\n",
       "    </tr>\n",
       "    <tr>\n",
       "      <th>18</th>\n",
       "      <td>FCVC</td>\n",
       "      <td>7.099894</td>\n",
       "    </tr>\n",
       "    <tr>\n",
       "      <th>16</th>\n",
       "      <td>Height</td>\n",
       "      <td>6.181371</td>\n",
       "    </tr>\n",
       "    <tr>\n",
       "      <th>0</th>\n",
       "      <td>Gender_Male</td>\n",
       "      <td>5.015443</td>\n",
       "    </tr>\n",
       "    <tr>\n",
       "      <th>20</th>\n",
       "      <td>CH2O</td>\n",
       "      <td>3.314055</td>\n",
       "    </tr>\n",
       "    <tr>\n",
       "      <th>22</th>\n",
       "      <td>TUE</td>\n",
       "      <td>2.910062</td>\n",
       "    </tr>\n",
       "    <tr>\n",
       "      <th>21</th>\n",
       "      <td>FAF</td>\n",
       "      <td>2.666494</td>\n",
       "    </tr>\n",
       "    <tr>\n",
       "      <th>19</th>\n",
       "      <td>NCP</td>\n",
       "      <td>2.357189</td>\n",
       "    </tr>\n",
       "    <tr>\n",
       "      <th>1</th>\n",
       "      <td>family_history_with_overweight_yes</td>\n",
       "      <td>2.124333</td>\n",
       "    </tr>\n",
       "    <tr>\n",
       "      <th>12</th>\n",
       "      <td>CALC_Sometimes</td>\n",
       "      <td>1.500104</td>\n",
       "    </tr>\n",
       "    <tr>\n",
       "      <th>3</th>\n",
       "      <td>CAEC_Frequently</td>\n",
       "      <td>1.138531</td>\n",
       "    </tr>\n",
       "    <tr>\n",
       "      <th>4</th>\n",
       "      <td>CAEC_Sometimes</td>\n",
       "      <td>0.987399</td>\n",
       "    </tr>\n",
       "    <tr>\n",
       "      <th>10</th>\n",
       "      <td>MTRANS_Public_Transportation</td>\n",
       "      <td>0.861179</td>\n",
       "    </tr>\n",
       "  </tbody>\n",
       "</table>\n",
       "</div>"
      ],
      "text/plain": [
       "                              Features  Gini Importance\n",
       "23                                 BMI        29.458431\n",
       "17                              Weight        24.829193\n",
       "15                                 Age         7.462973\n",
       "18                                FCVC         7.099894\n",
       "16                              Height         6.181371\n",
       "0                          Gender_Male         5.015443\n",
       "20                                CH2O         3.314055\n",
       "22                                 TUE         2.910062\n",
       "21                                 FAF         2.666494\n",
       "19                                 NCP         2.357189\n",
       "1   family_history_with_overweight_yes         2.124333\n",
       "12                      CALC_Sometimes         1.500104\n",
       "3                      CAEC_Frequently         1.138531\n",
       "4                       CAEC_Sometimes         0.987399\n",
       "10        MTRANS_Public_Transportation         0.861179"
      ]
     },
     "execution_count": 91,
     "metadata": {},
     "output_type": "execute_result"
    }
   ],
   "source": [
    "## List feature importance\n",
    "rf_ft_imp = pd.DataFrame(data={'Features': x_train_onehot.columns, 'Gini Importance':rf.feature_importances_*100})\n",
    "rf_ft_imp.sort_values(by='Gini Importance', ascending=False).head(15)"
   ]
  },
  {
   "cell_type": "markdown",
   "metadata": {},
   "source": [
    "### KNN"
   ]
  },
  {
   "cell_type": "code",
   "execution_count": 98,
   "metadata": {},
   "outputs": [
    {
     "name": "stdout",
     "output_type": "stream",
     "text": [
      "best_params = {'n_neighbors': 8}\n",
      "best_score = 0.8157325486918774\n"
     ]
    },
    {
     "data": {
      "image/png": "[encoded data removed]",
      "text/plain": [
       "<Figure size 640x480 with 1 Axes>"
      ]
     },
     "metadata": {},
     "output_type": "display_data"
    }
   ],
   "source": [
    "## limit x vars to top 10 by gini importance (determined in rf section)\n",
    "x_train_ordenc = pd.DataFrame(ct_ord.fit_transform(x_train), columns=ct_ord.get_feature_names_out())\n",
    "x_test_ordenc = pd.DataFrame(ct_ord.transform(x_test), columns=ct_ord.get_feature_names_out())\n",
    "\n",
    "## hyperparameter tuning: alpha\n",
    "param_grid = {'n_neighbors' : np.arange(4,15)}\n",
    "kf = KFold(n_splits=10, shuffle=True, random_state=8)\n",
    "\n",
    "knn_tuning = GridSearchCV(KNeighborsClassifier(weights='distance'), param_grid, scoring='accuracy', cv=kf)\n",
    "knn_tuning.fit(x_train_ordenc.values, y_train_le)\n",
    "knn_tuning_params = knn_tuning.cv_results_['param_n_neighbors']\n",
    "\n",
    "## find best param with highest accuracy\n",
    "knn_tuning_params = knn_tuning.cv_results_['param_n_neighbors']\n",
    "knn_tuning_accr = knn_tuning.cv_results_['mean_test_score']\n",
    "plt.plot(knn_tuning_params, knn_tuning_accr)\n",
    "plt.xlabel('N_neighbors')\n",
    "plt.ylabel('Accuracy')\n",
    "\n",
    "print('best_params =', knn_tuning.best_params_)\n",
    "print('best_score =', knn_tuning.best_score_)"
   ]
  },
  {
   "cell_type": "code",
   "execution_count": 99,
   "metadata": {},
   "outputs": [],
   "source": [
    "## instantiate knn algorithm, using best tuned param\n",
    "knn = KNeighborsClassifier(n_neighbors=8, weights='distance')\n",
    "\n",
    "## fit model to training data\n",
    "knn.fit(x_train_ordenc.values, y_train_le); None"
   ]
  },
  {
   "cell_type": "markdown",
   "metadata": {},
   "source": [
    "### Stacking"
   ]
  },
  {
   "cell_type": "code",
   "execution_count": 53,
   "metadata": {},
   "outputs": [],
   "source": [
    "## stack rf, xgbclass using logistic meta estimator\n",
    "classifiers = [\n",
    "    ('rf', rf),\n",
    "    ('xgbclass', xgbclass)\n",
    "]\n",
    "stack_rf_xgb = StackingClassifier(estimators=classifiers, final_estimator=LogisticRegression(max_iter=1000), cv=5, n_jobs=-1, passthrough=True)\n",
    "\n",
    "## fit model to training data\n",
    "stack_rf_xgb.fit(x_train_onehot, y_train_le); None"
   ]
  },
  {
   "cell_type": "markdown",
   "metadata": {},
   "source": [
    "## Test Predictions"
   ]
  },
  {
   "cell_type": "code",
   "execution_count": 12,
   "metadata": {},
   "outputs": [],
   "source": [
    "## set up submission format - i.e. Id & NObeyesdad\n",
    "id = np.arange(len(train), len(train)+len(test))\n",
    "submission = pd.DataFrame(data={'id':id, 'NObeyesdad':''})"
   ]
  },
  {
   "cell_type": "code",
   "execution_count": 13,
   "metadata": {},
   "outputs": [],
   "source": [
    "## xgb prediction\n",
    "y_testpred_xgb = xgbclass.predict(x_test_onehot.values)\n",
    "y_testpred_xgb = le.inverse_transform(y_testpred_xgb)\n",
    "submission['NObeyesdad'] = y_testpred_xgb\n",
    "submission.to_csv('Submissions/test_pred_xgb_v3.csv', index=False)"
   ]
  },
  {
   "cell_type": "code",
   "execution_count": 52,
   "metadata": {},
   "outputs": [],
   "source": [
    "## rf prediction\n",
    "y_testpred_rf = rf.predict(x_test_onehot.values)\n",
    "y_testpred_rf = le.inverse_transform(y_testpred_rf)\n",
    "submission['NObeyesdad'] = y_testpred_rf\n",
    "submission.to_csv('Submissions/test_pred_rf_v1.csv', index=False)"
   ]
  },
  {
   "cell_type": "code",
   "execution_count": 54,
   "metadata": {},
   "outputs": [],
   "source": [
    "## stack_rf_xgb prediction\n",
    "y_testpred_stack_rf_xgb = stack_rf_xgb.predict(x_test_onehot)\n",
    "y_testpred_stack_rf_xgb = le.inverse_transform(y_testpred_stack_rf_xgb)\n",
    "submission['NObeyesdad'] = y_testpred_stack_rf_xgb\n",
    "submission.to_csv('Submissions/test_pred_stack_rf_xgb_v2.csv', index=False)"
   ]
  }
 ],
 "metadata": {
  "kernelspec": {
   "display_name": "Python 3",
   "language": "python",
   "name": "python3"
  },
  "language_info": {
   "codemirror_mode": {
    "name": "ipython",
    "version": 3
   },
   "file_extension": ".py",
   "mimetype": "text/x-python",
   "name": "python",
   "nbconvert_exporter": "python",
   "pygments_lexer": "ipython3",
   "version": "3.10.4"
  }
 },
 "nbformat": 4,
 "nbformat_minor": 2
}
